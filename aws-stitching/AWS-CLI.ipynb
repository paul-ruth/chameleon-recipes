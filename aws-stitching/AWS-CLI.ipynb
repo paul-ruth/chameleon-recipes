{
 "cells": [
  {
   "cell_type": "markdown",
   "metadata": {},
   "source": [
    "# Examples of AWS Config and Commands\n",
    "\n",
    "https://docs.aws.amazon.com/cli/latest/reference/\n",
    "\n",
    "https://docs.aws.amazon.com/cli/index.html\n",
    "\n",
    "json parsing\n",
    "https://stedolan.github.io/jq/manual"
   ]
  },
  {
   "cell_type": "code",
   "execution_count": null,
   "metadata": {},
   "outputs": [],
   "source": [
    "sudo apt-get update\n",
    "\n",
    "#Insall CLI (python lib is: python3-boto3) \n",
    "sudo apt-get -y install awscli "
   ]
  },
  {
   "cell_type": "code",
   "execution_count": null,
   "metadata": {},
   "outputs": [],
   "source": [
    "AWS_ACCESS_KEY_ID=`tail -n +2  ~/work/new_user_credentials.csv | cut -d, -f3`\n",
    "AWS_SECRRET_ACCESS_KEY=`tail -n +2  ~/work/new_user_credentials.csv | cut -d, -f4`\n",
    "DEFAULT_REGION_NAME='us-east-2'\n",
    "DEFAULT_OUTPUT_FORMAT='json'\n",
    "\n",
    "\n",
    "#echo $AWS_ACCESS_KEY_ID\n",
    "#echo $AWS_SECRRET_ACCESS_KEY\n",
    "\n",
    "\n",
    "# Note: can be done internativly with 'aws configure'\n",
    "aws configure set aws_access_key_id $AWS_ACCESS_KEY_ID\n",
    "aws configure set aws_secret_access_key $AWS_SECRRET_ACCESS_KEY\n",
    "aws configure set default.region $DEFAULT_REGION_NAME\n",
    "aws configure set default.output $DEFAULT_OUTPUT_FORMAT\n",
    "\n",
    "#aws configure set default.ca_bundle /path/to/ca-bundle.pem\n",
    "#aws configure set region us-west-1 --profile testing\n",
    "#aws configure set profile.testing2.region eu-west-1\n",
    "#aws configure set preview.cloudsearch true"
   ]
  },
  {
   "cell_type": "code",
   "execution_count": null,
   "metadata": {},
   "outputs": [],
   "source": [
    "aws  --output json ec2 describe-vpcs"
   ]
  },
  {
   "cell_type": "code",
   "execution_count": null,
   "metadata": {},
   "outputs": [],
   "source": [
    "#Get instance id\n",
    "INSTANCE_NAME=\"pruth-test\"\n",
    "#Needs try/catch b/c some instnaces don't have Tags/Names\n",
    "INSTANCE_ID=`aws --output json ec2 describe-instances | jq -r '.Reservations[].Instances[] |  try if .Tags[].Key == \"Name\" and .Tags[].Value == \"'${INSTANCE_NAME}'\" then .InstanceId else \"\" end catch \"\"'`\n",
    "echo INSTANCE_ID $INSTANCE_ID"
   ]
  },
  {
   "cell_type": "code",
   "execution_count": null,
   "metadata": {},
   "outputs": [],
   "source": [
    "aws --output json ec2 stop-instances --instance-ids $INSTANCE_ID"
   ]
  },
  {
   "cell_type": "code",
   "execution_count": null,
   "metadata": {},
   "outputs": [],
   "source": [
    "aws --output json ec2 start-instances --instance-ids $INSTANCE_ID"
   ]
  },
  {
   "cell_type": "code",
   "execution_count": null,
   "metadata": {},
   "outputs": [],
   "source": [
    "aws --output json ec2 describe-vpcs"
   ]
  },
  {
   "cell_type": "code",
   "execution_count": null,
   "metadata": {},
   "outputs": [],
   "source": [
    "#note about Tags being null: https://ilya-sher.org/2016/05/11/most-jq-you-will-ever-need/\n",
    "\n",
    "#Get vpc id\n",
    "VPC_NAME=\"vpc-chameleon-cloudconnect\"\n",
    "\n",
    "#Needs try/catch b/c some vpcs don't have Tags/Names\n",
    "VPC_ID=`aws --output json ec2 describe-vpcs | jq -r '.Vpcs[] | try if .Tags[].Key == \"Name\" and .Tags[].Value == \"'${VPC_NAME}'\" then .VpcId else \"\" end catch \"\"'`\n",
    "\n",
    "echo VPC_ID $VPC_ID"
   ]
  },
  {
   "cell_type": "code",
   "execution_count": null,
   "metadata": {},
   "outputs": [],
   "source": [
    "aws --output json ec2 describe-vpn-gateways"
   ]
  },
  {
   "cell_type": "code",
   "execution_count": null,
   "metadata": {},
   "outputs": [],
   "source": [
    "#Create VPG\n",
    "#aws --output json ec2 describe-vpn-gateways\n",
    "\n",
    "VPC_GATEWAY_ID=`aws --output json ec2 create-vpn-gateway --type ipsec.1 --amazon-side-asn 65001 | jq -r '.VpnGateway.VpnGatewayId'`\n",
    "echo VPC_GATEWAY_ID $VPC_GATEWAY_ID\n",
    "                                        \n",
    "                                        "
   ]
  },
  {
   "cell_type": "code",
   "execution_count": null,
   "metadata": {},
   "outputs": [],
   "source": [
    "#Attach VPG to VPC\n",
    "aws --output json ec2 attach-vpn-gateway --vpc-id $VPC_ID --vpn-gateway-id $VPC_GATEWAY_ID\n"
   ]
  },
  {
   "cell_type": "code",
   "execution_count": null,
   "metadata": {},
   "outputs": [],
   "source": [
    "ROUTE_TABLE_ID=`aws --output json ec2 describe-route-tables | jq -r '.RouteTables[] |  try if .VpcId == \"'${VPC_ID}'\" then .RouteTableId else \"\" end catch \"\"'`\n",
    "echo ROUTE_TABLE_ID $ROUTE_TABLE_ID"
   ]
  },
  {
   "cell_type": "code",
   "execution_count": null,
   "metadata": {},
   "outputs": [],
   "source": [
    "#Set the route to the VPG: TODO\n",
    "#CHAMELEON_SUBNET=\"192.168.4.1/24\"\n",
    "#\n",
    "aws --output json ec2 enable-vgw-route-propagation --gateway-id $VPC_GATEWAY_ID \\\n",
    "                                                   --route-table-id $ROUTE_TABLE_ID"
   ]
  },
  {
   "cell_type": "code",
   "execution_count": null,
   "metadata": {},
   "outputs": [],
   "source": [
    "#aws --output json ec2 create-route --route-table-id $ROUTE_TABLE_ID \\\n",
    "#                                   --destination-cidr-block $CHAMELEON_SUBNET \\\n",
    "#                                   --gateway-id $VPC_GATEWAY_ID\n",
    "                                   "
   ]
  },
  {
   "cell_type": "code",
   "execution_count": null,
   "metadata": {},
   "outputs": [],
   "source": [
    "#Accept the DirectConnect Connection\n",
    "\n",
    "#must have directconnect iam permissions\n",
    "#aws --output json  directconnect describe-direct-connect-gateway-association-proposals\n",
    "aws --output json  directconnect describe-connections"
   ]
  },
  {
   "cell_type": "code",
   "execution_count": null,
   "metadata": {},
   "outputs": [],
   "source": [
    "#Get directconnect conneciton id\n",
    "c\n",
    "#Needs try/catch b/c some instnaces don't have Tags/Names\n",
    "DIRECTCONNECT_ID=`aws --output json directconnect describe-connections | jq -r '.connections[] |  try if .connectionName == \"'${DIRECTCONNECT_NAME}'\" then .connectionId else \"\" end catch \"\"'`\n",
    "echo DIRECTCONNECT_ID $DIRECTCONNECT_ID"
   ]
  },
  {
   "cell_type": "code",
   "execution_count": null,
   "metadata": {},
   "outputs": [],
   "source": [
    "aws --output json directconnect confirm-connection --connection-id $DIRECTCONNECT_ID"
   ]
  },
  {
   "cell_type": "code",
   "execution_count": null,
   "metadata": {},
   "outputs": [],
   "source": [
    "DIRECTCONNECT_NAME=\"pruth-chameleon-aws\"\n",
    "DIRECTCONNECT_STATE=\"\"\n",
    "\n",
    "while [ \"$DIRECTCONNECT_STATE\" != \"available\" ]\n",
    "do \n",
    "    sleep 10\n",
    "    #Needs try/catch b/c some instnaces don't have Tags/Names\n",
    "    DIRECTCONNECT_STATE=`aws --output json directconnect describe-connections | jq -r '.connections[] |  try if .connectionName == \"'${DIRECTCONNECT_NAME}'\" then .connectionState else \"\" end catch \"\"'`\n",
    "    echo DIRECTCONNECT_STATE $DIRECTCONNECT_STATE\n",
    "done"
   ]
  },
  {
   "cell_type": "code",
   "execution_count": null,
   "metadata": {},
   "outputs": [],
   "source": [
    "#Create DirectConnectGateway\n",
    "DIRECTCONNECT_GATEWAY_NAME=\"dcgw-pruth-chameleon-aws\"\n",
    "AWS_ASN=65001\n",
    "\n",
    "aws --output json directconnect create-direct-connect-gateway --direct-connect-gateway-name $DIRECTCONNECT_GATEWAY_NAME --amazon-side-asn $AWS_ASN"
   ]
  },
  {
   "cell_type": "code",
   "execution_count": null,
   "metadata": {},
   "outputs": [],
   "source": [
    "#Needs try/catch b/c some instnaces don't have Tags/Names\n",
    "DIRECTCONNECT_GW_ID=`aws --output json directconnect describe-direct-connect-gateways | jq -r '.directConnectGateways[] |  try if .directConnectGatewayName == \"'${DIRECTCONNECT_GATEWAY_NAME}'\" then .directConnectGatewayId else \"\" end catch \"\"'`\n",
    "echo DIRECTCONNECT_GW_ID $DIRECTCONNECT_GW_ID"
   ]
  },
  {
   "cell_type": "code",
   "execution_count": null,
   "metadata": {},
   "outputs": [],
   "source": [
    "#Create VirtualPrivateGateway\n",
    "VIRTUAL_INTERFACE_NAME=\"vif-pruth-chameleon-aws\"\n",
    "AWS_VLAN=3297\n",
    "I2_ASN=55038\n",
    "AWS_AUTHKEY=\"BgpAuthPass\"\n",
    "AWS_ADDR=192.168.2.1/24\n",
    "I2_ADDR=192.168.2.2/24\n",
    "MTU=9001\n",
    "aws --output json directconnect create-private-virtual-interface \\\n",
    "                                          --connection-id $DIRECTCONNECT_ID \\\n",
    "                                          --new-private-virtual-interface virtualInterfaceName=${VIRTUAL_INTERFACE_NAME},vlan=${AWS_VLAN},asn=${I2_ASN},authKey=${AWS_AUTHKEY},mtu=${MTU},amazonAddress=${AWS_ADDR},customerAddress=${I2_ADDR},directConnectGatewayId=${DIRECTCONNECT_GW_ID}\n",
    "                                          \n",
    "                                          "
   ]
  },
  {
   "cell_type": "code",
   "execution_count": null,
   "metadata": {},
   "outputs": [],
   "source": [
    "#Associate VPGW with DirectConnect GW\n",
    "\n",
    "aws --output json  directconnect create-direct-connect-gateway-association --direct-connect-gateway-id $DIRECTCONNECT_GW_ID \\\n",
    "                                                                           --virtual-gateway-id $VPC_GATEWAY_ID"
   ]
  },
  {
   "cell_type": "code",
   "execution_count": null,
   "metadata": {},
   "outputs": [],
   "source": [
    "#DELETE ALL\n"
   ]
  }
 ],
 "metadata": {
  "kernelspec": {
   "display_name": "Bash",
   "language": "bash",
   "name": "bash"
  },
  "language_info": {
   "codemirror_mode": "shell",
   "file_extension": ".sh",
   "mimetype": "text/x-sh",
   "name": "bash"
  }
 },
 "nbformat": 4,
 "nbformat_minor": 4
}
